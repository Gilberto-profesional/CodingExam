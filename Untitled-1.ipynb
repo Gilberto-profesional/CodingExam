{
 "cells": [
  {
   "cell_type": "code",
   "execution_count": null,
   "metadata": {},
   "outputs": [],
   "source": [
    "#This is a notebook to help with code interviews\n",
    "#It is a work in progress and will be updated as I learn more\n",
    "#It is not meant to be a complete solution, but rather a starting point for practice\n"
   ]
  }
 ],
 "metadata": {
  "language_info": {
   "name": "python"
  }
 },
 "nbformat": 4,
 "nbformat_minor": 2
}
